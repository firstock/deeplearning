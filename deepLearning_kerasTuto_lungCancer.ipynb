{
 "cells": [
  {
   "cell_type": "markdown",
   "metadata": {},
   "source": [
    "# keras\n",
    "tensorflow는 거들뿐"
   ]
  },
  {
   "cell_type": "code",
   "execution_count": 2,
   "metadata": {},
   "outputs": [
    {
     "name": "stderr",
     "output_type": "stream",
     "text": [
      "Using TensorFlow backend.\n"
     ]
    }
   ],
   "source": [
    "import tensorflow as tf\n",
    "import keras"
   ]
  },
  {
   "cell_type": "code",
   "execution_count": 3,
   "metadata": {},
   "outputs": [
    {
     "name": "stdout",
     "output_type": "stream",
     "text": [
      "1.7.0\n"
     ]
    }
   ],
   "source": [
    "print(tf.__version__)"
   ]
  },
  {
   "cell_type": "markdown",
   "metadata": {},
   "source": [
    "### 폐암수술 환자 생존율 예측"
   ]
  },
  {
   "cell_type": "code",
   "execution_count": 16,
   "metadata": {
    "collapsed": true
   },
   "outputs": [],
   "source": [
    "from keras.models import Sequential\n",
    "from keras.layers import Dense"
   ]
  },
  {
   "cell_type": "code",
   "execution_count": 17,
   "metadata": {
    "collapsed": true
   },
   "outputs": [],
   "source": [
    "import tensorflow as tf\n",
    "import numpy"
   ]
  },
  {
   "cell_type": "code",
   "execution_count": 18,
   "metadata": {
    "collapsed": true
   },
   "outputs": [],
   "source": [
    "seed= 0\n",
    "numpy.random.seed(seed)\n",
    "tf.set_random_seed(seed)"
   ]
  },
  {
   "cell_type": "markdown",
   "metadata": {},
   "source": [
    "환자 데이터\n",
    "- 폴란드 브로츠 와프 의과대학. 2013 폐암수술\n",
    "- 수술 전 진단 데이터, 수술 후 생존 결과"
   ]
  },
  {
   "cell_type": "code",
   "execution_count": 19,
   "metadata": {
    "collapsed": true
   },
   "outputs": [],
   "source": [
    "data= numpy.loadtxt('dataset/ThoraricSurgery.csv', delimiter= ',')"
   ]
  },
  {
   "cell_type": "code",
   "execution_count": 20,
   "metadata": {
    "collapsed": true
   },
   "outputs": [],
   "source": [
    "X= data[:, 0:17]\n",
    "Y= data[:,17]"
   ]
  },
  {
   "cell_type": "markdown",
   "metadata": {},
   "source": [
    "#### 딥러닝 구조_모델설정 및 실행\n",
    "얘도 결국 분류 모델 - 다만, 어느 모델을 택해야 하는 지 선택할 필요가 없는 것이 장점!"
   ]
  },
  {
   "cell_type": "markdown",
   "metadata": {},
   "source": [
    "Sequential: layer 쉽게 쌓을 수 있게 해주는 함수\n",
    "- .add() 로 층 추가"
   ]
  },
  {
   "cell_type": "code",
   "execution_count": 21,
   "metadata": {
    "collapsed": true
   },
   "outputs": [],
   "source": [
    "model= Sequential()\n",
    "model.add(Dense(30, input_dim= 17, activation= 'relu'))\n",
    "model.add(Dense(1, activation= 'sigmoid'))"
   ]
  },
  {
   "cell_type": "markdown",
   "metadata": {},
   "source": [
    "실행"
   ]
  },
  {
   "cell_type": "markdown",
   "metadata": {},
   "source": [
    "- loss: 손실 측정 함수 뭘로?\n",
    "- epochs: 몇 번 반복학습\n",
    "- batch_size: 몇 개씩 묶어서 계산할지. 속도에 영향"
   ]
  },
  {
   "cell_type": "code",
   "execution_count": 29,
   "metadata": {
    "scrolled": true
   },
   "outputs": [
    {
     "name": "stdout",
     "output_type": "stream",
     "text": [
      "Epoch 1/30\n",
      "470/470 [==============================] - 0s 365us/step - loss: 0.1433 - acc: 0.8553\n",
      "Epoch 2/30\n",
      "470/470 [==============================] - 0s 100us/step - loss: 0.1425 - acc: 0.8532\n",
      "Epoch 3/30\n",
      "470/470 [==============================] - 0s 66us/step - loss: 0.1443 - acc: 0.8532\n",
      "Epoch 4/30\n",
      "470/470 [==============================] - 0s 100us/step - loss: 0.1413 - acc: 0.8553\n",
      "Epoch 5/30\n",
      "470/470 [==============================] - 0s 66us/step - loss: 0.1394 - acc: 0.8574\n",
      "Epoch 6/30\n",
      "470/470 [==============================] - 0s 66us/step - loss: 0.1426 - acc: 0.8447\n",
      "Epoch 7/30\n",
      "470/470 [==============================] - 0s 100us/step - loss: 0.1334 - acc: 0.8553\n",
      "Epoch 8/30\n",
      "470/470 [==============================] - 0s 66us/step - loss: 0.1372 - acc: 0.8617\n",
      "Epoch 9/30\n",
      "470/470 [==============================] - 0s 100us/step - loss: 0.1380 - acc: 0.8468\n",
      "Epoch 10/30\n",
      "470/470 [==============================] - 0s 66us/step - loss: 0.1391 - acc: 0.8574\n",
      "Epoch 11/30\n",
      "470/470 [==============================] - 0s 100us/step - loss: 0.1391 - acc: 0.8511\n",
      "Epoch 12/30\n",
      "470/470 [==============================] - 0s 100us/step - loss: 0.1445 - acc: 0.8511\n",
      "Epoch 13/30\n",
      "470/470 [==============================] - 0s 66us/step - loss: 0.1402 - acc: 0.8553\n",
      "Epoch 14/30\n",
      "470/470 [==============================] - 0s 100us/step - loss: 0.1387 - acc: 0.8553\n",
      "Epoch 15/30\n",
      "470/470 [==============================] - 0s 66us/step - loss: 0.1367 - acc: 0.8596\n",
      "Epoch 16/30\n",
      "470/470 [==============================] - 0s 100us/step - loss: 0.1352 - acc: 0.8574\n",
      "Epoch 17/30\n",
      "470/470 [==============================] - 0s 66us/step - loss: 0.1364 - acc: 0.8532\n",
      "Epoch 18/30\n",
      "470/470 [==============================] - 0s 100us/step - loss: 0.1404 - acc: 0.8489\n",
      "Epoch 19/30\n",
      "470/470 [==============================] - 0s 66us/step - loss: 0.1432 - acc: 0.8553\n",
      "Epoch 20/30\n",
      "470/470 [==============================] - 0s 100us/step - loss: 0.1395 - acc: 0.8574\n",
      "Epoch 21/30\n",
      "470/470 [==============================] - 0s 66us/step - loss: 0.1373 - acc: 0.8574\n",
      "Epoch 22/30\n",
      "470/470 [==============================] - 0s 100us/step - loss: 0.1398 - acc: 0.8489\n",
      "Epoch 23/30\n",
      "470/470 [==============================] - 0s 66us/step - loss: 0.1401 - acc: 0.8553\n",
      "Epoch 24/30\n",
      "470/470 [==============================] - 0s 100us/step - loss: 0.1368 - acc: 0.8596\n",
      "Epoch 25/30\n",
      "470/470 [==============================] - 0s 66us/step - loss: 0.1386 - acc: 0.8511\n",
      "Epoch 26/30\n",
      "470/470 [==============================] - 0s 100us/step - loss: 0.1436 - acc: 0.8532\n",
      "Epoch 27/30\n",
      "470/470 [==============================] - 0s 66us/step - loss: 0.1399 - acc: 0.8574\n",
      "Epoch 28/30\n",
      "470/470 [==============================] - 0s 100us/step - loss: 0.1393 - acc: 0.8574\n",
      "Epoch 29/30\n",
      "470/470 [==============================] - 0s 100us/step - loss: 0.1409 - acc: 0.8532\n",
      "Epoch 30/30\n",
      "470/470 [==============================] - 0s 66us/step - loss: 0.1375 - acc: 0.8596\n"
     ]
    }
   ],
   "source": [
    "model.compile(loss= 'mean_squared_error', optimizer= 'adam', metrics= ['accuracy'])\n",
    "model.fit(X, Y, epochs= 30, batch_size= 10);"
   ]
  },
  {
   "cell_type": "markdown",
   "metadata": {},
   "source": [
    "결과"
   ]
  },
  {
   "cell_type": "markdown",
   "metadata": {},
   "source": [
    "- layer 2개로 한 거 치고 꽤 정확도가 잘 나왔다"
   ]
  },
  {
   "cell_type": "code",
   "execution_count": 28,
   "metadata": {
    "scrolled": true
   },
   "outputs": [
    {
     "name": "stdout",
     "output_type": "stream",
     "text": [
      "470/470 [==============================] - 0s 100us/step\n",
      "\n",
      " 정확도 0.851064\n"
     ]
    }
   ],
   "source": [
    "print('\\n 정확도 %.6f'%(model.evaluate(X,Y)[1]))"
   ]
  }
 ],
 "metadata": {
  "kernelspec": {
   "display_name": "Python 3",
   "language": "python",
   "name": "python3"
  },
  "language_info": {
   "codemirror_mode": {
    "name": "ipython",
    "version": 3
   },
   "file_extension": ".py",
   "mimetype": "text/x-python",
   "name": "python",
   "nbconvert_exporter": "python",
   "pygments_lexer": "ipython3",
   "version": "3.6.3"
  }
 },
 "nbformat": 4,
 "nbformat_minor": 2
}
