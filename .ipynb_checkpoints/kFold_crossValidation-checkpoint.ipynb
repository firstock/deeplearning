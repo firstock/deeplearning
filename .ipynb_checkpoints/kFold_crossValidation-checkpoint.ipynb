{
 "cells": [
  {
   "cell_type": "markdown",
   "metadata": {},
   "source": [
    "### 에러났는딩"
   ]
  },
  {
   "cell_type": "markdown",
   "metadata": {},
   "source": [
    "붓꽃 데이터"
   ]
  },
  {
   "cell_type": "code",
   "execution_count": 20,
   "metadata": {},
   "outputs": [
    {
     "name": "stderr",
     "output_type": "stream",
     "text": [
      "C:\\Users\\kitcoop\\Anaconda3\\lib\\site-packages\\h5py\\__init__.py:34: FutureWarning: Conversion of the second argument of issubdtype from `float` to `np.floating` is deprecated. In future, it will be treated as `np.float64 == np.dtype(float).type`.\n",
      "  from ._conv import register_converters as _register_converters\n",
      "Using TensorFlow backend.\n"
     ]
    }
   ],
   "source": [
    "from keras.models import Sequential\n",
    "from keras.layers.core import Dense\n",
    "from keras.utils import np_utils\n",
    "from sklearn.preprocessing import LabelEncoder\n",
    "\n",
    "import pandas as pd\n",
    "import numpy\n",
    "import tensorflow as tf"
   ]
  },
  {
   "cell_type": "code",
   "execution_count": 13,
   "metadata": {},
   "outputs": [],
   "source": [
    "df= pd.read_csv('dataset/iris.csv')"
   ]
  },
  {
   "cell_type": "code",
   "execution_count": 16,
   "metadata": {},
   "outputs": [],
   "source": [
    "# 값만 딸건데 컬럼명을 왜 적으라 한거;;\n",
    "# df.columns= ['sepal_length', 'sepal_width', 'petal_length', 'petal_width', 'species']"
   ]
  },
  {
   "cell_type": "code",
   "execution_count": 17,
   "metadata": {
    "collapsed": true
   },
   "outputs": [],
   "source": [
    "dataset= df.values"
   ]
  },
  {
   "cell_type": "code",
   "execution_count": 25,
   "metadata": {},
   "outputs": [],
   "source": [
    "# dataset"
   ]
  },
  {
   "cell_type": "code",
   "execution_count": 19,
   "metadata": {
    "collapsed": true
   },
   "outputs": [],
   "source": [
    "X= dataset[:,0:4].astype(float)\n",
    "Y_obj= dataset[:,4]"
   ]
  },
  {
   "cell_type": "code",
   "execution_count": 21,
   "metadata": {
    "scrolled": true
   },
   "outputs": [
    {
     "name": "stdout",
     "output_type": "stream",
     "text": [
      "Epoch 1/50\n",
      "149/149 [==============================] - 0s 2ms/step - loss: 1.1887 - acc: 0.3423\n",
      "Epoch 2/50\n",
      "149/149 [==============================] - 0s 838us/step - loss: 0.8146 - acc: 0.5503\n",
      "Epoch 3/50\n",
      "149/149 [==============================] - 0s 838us/step - loss: 0.6893 - acc: 0.7517\n",
      "Epoch 4/50\n",
      "149/149 [==============================] - 0s 942us/step - loss: 0.6138 - acc: 0.7383\n",
      "Epoch 5/50\n",
      "149/149 [==============================] - 0s 838us/step - loss: 0.5441 - acc: 0.7517\n",
      "Epoch 6/50\n",
      "149/149 [==============================] - 0s 838us/step - loss: 0.4863 - acc: 0.8523\n",
      "Epoch 7/50\n",
      "149/149 [==============================] - 0s 838us/step - loss: 0.4559 - acc: 0.8456\n",
      "Epoch 8/50\n",
      "149/149 [==============================] - 0s 838us/step - loss: 0.4169 - acc: 0.9195\n",
      "Epoch 9/50\n",
      "149/149 [==============================] - 0s 838us/step - loss: 0.3908 - acc: 0.9128\n",
      "Epoch 10/50\n",
      "149/149 [==============================] - 0s 733us/step - loss: 0.3718 - acc: 0.9396\n",
      "Epoch 11/50\n",
      "149/149 [==============================] - 0s 838us/step - loss: 0.3471 - acc: 0.8859\n",
      "Epoch 12/50\n",
      "149/149 [==============================] - 0s 838us/step - loss: 0.3250 - acc: 0.9396\n",
      "Epoch 13/50\n",
      "149/149 [==============================] - 0s 733us/step - loss: 0.2978 - acc: 0.9597\n",
      "Epoch 14/50\n",
      "149/149 [==============================] - 0s 838us/step - loss: 0.2819 - acc: 0.9530\n",
      "Epoch 15/50\n",
      "149/149 [==============================] - 0s 838us/step - loss: 0.2740 - acc: 0.9530\n",
      "Epoch 16/50\n",
      "149/149 [==============================] - 0s 733us/step - loss: 0.2618 - acc: 0.9597\n",
      "Epoch 17/50\n",
      "149/149 [==============================] - 0s 838us/step - loss: 0.2440 - acc: 0.9664\n",
      "Epoch 18/50\n",
      "149/149 [==============================] - 0s 838us/step - loss: 0.2313 - acc: 0.9597\n",
      "Epoch 19/50\n",
      "149/149 [==============================] - 0s 733us/step - loss: 0.2181 - acc: 0.9664\n",
      "Epoch 20/50\n",
      "149/149 [==============================] - 0s 733us/step - loss: 0.2134 - acc: 0.9463\n",
      "Epoch 21/50\n",
      "149/149 [==============================] - 0s 838us/step - loss: 0.2026 - acc: 0.9530\n",
      "Epoch 22/50\n",
      "149/149 [==============================] - 0s 733us/step - loss: 0.1919 - acc: 0.9664\n",
      "Epoch 23/50\n",
      "149/149 [==============================] - 0s 838us/step - loss: 0.1833 - acc: 0.9664\n",
      "Epoch 24/50\n",
      "149/149 [==============================] - 0s 733us/step - loss: 0.1769 - acc: 0.9530\n",
      "Epoch 25/50\n",
      "149/149 [==============================] - 0s 838us/step - loss: 0.1699 - acc: 0.9664\n",
      "Epoch 26/50\n",
      "149/149 [==============================] - 0s 733us/step - loss: 0.1625 - acc: 0.9933\n",
      "Epoch 27/50\n",
      "149/149 [==============================] - 0s 838us/step - loss: 0.1577 - acc: 0.9597\n",
      "Epoch 28/50\n",
      "149/149 [==============================] - 0s 733us/step - loss: 0.1549 - acc: 0.9597\n",
      "Epoch 29/50\n",
      "149/149 [==============================] - 0s 838us/step - loss: 0.1478 - acc: 0.9597\n",
      "Epoch 30/50\n",
      "149/149 [==============================] - 0s 838us/step - loss: 0.1431 - acc: 0.9732\n",
      "Epoch 31/50\n",
      "149/149 [==============================] - 0s 733us/step - loss: 0.1399 - acc: 0.9664\n",
      "Epoch 32/50\n",
      "149/149 [==============================] - 0s 838us/step - loss: 0.1402 - acc: 0.9732\n",
      "Epoch 33/50\n",
      "149/149 [==============================] - 0s 838us/step - loss: 0.1287 - acc: 0.9732\n",
      "Epoch 34/50\n",
      "149/149 [==============================] - 0s 733us/step - loss: 0.1295 - acc: 0.9664\n",
      "Epoch 35/50\n",
      "149/149 [==============================] - 0s 838us/step - loss: 0.1231 - acc: 0.9732\n",
      "Epoch 36/50\n",
      "149/149 [==============================] - 0s 733us/step - loss: 0.1193 - acc: 0.9597\n",
      "Epoch 37/50\n",
      "149/149 [==============================] - 0s 733us/step - loss: 0.1153 - acc: 0.9799\n",
      "Epoch 38/50\n",
      "149/149 [==============================] - 0s 838us/step - loss: 0.1187 - acc: 0.9799\n",
      "Epoch 39/50\n",
      "149/149 [==============================] - 0s 838us/step - loss: 0.1124 - acc: 0.9799\n",
      "Epoch 40/50\n",
      "149/149 [==============================] - 0s 733us/step - loss: 0.1185 - acc: 0.9732\n",
      "Epoch 41/50\n",
      "149/149 [==============================] - 0s 838us/step - loss: 0.1079 - acc: 0.9799\n",
      "Epoch 42/50\n",
      "149/149 [==============================] - 0s 838us/step - loss: 0.1133 - acc: 0.9597\n",
      "Epoch 43/50\n",
      "149/149 [==============================] - 0s 733us/step - loss: 0.1093 - acc: 0.9664\n",
      "Epoch 44/50\n",
      "149/149 [==============================] - 0s 838us/step - loss: 0.1082 - acc: 0.9664\n",
      "Epoch 45/50\n",
      "149/149 [==============================] - 0s 838us/step - loss: 0.1050 - acc: 0.9732\n",
      "Epoch 46/50\n",
      "149/149 [==============================] - 0s 942us/step - loss: 0.1024 - acc: 0.9664\n",
      "Epoch 47/50\n",
      "149/149 [==============================] - 0s 838us/step - loss: 0.0997 - acc: 0.9799\n",
      "Epoch 48/50\n",
      "149/149 [==============================] - 0s 838us/step - loss: 0.1013 - acc: 0.9799\n",
      "Epoch 49/50\n",
      "149/149 [==============================] - 0s 733us/step - loss: 0.1011 - acc: 0.9732\n",
      "Epoch 50/50\n",
      "149/149 [==============================] - 0s 838us/step - loss: 0.1006 - acc: 0.9597\n",
      "149/149 [==============================] - 0s 105us/step\n",
      "\n",
      "Accuracy    0.973154\n"
     ]
    }
   ],
   "source": [
    "e= LabelEncoder()\n",
    "e.fit(Y_obj)\n",
    "Y= e.transform(Y_obj)\n",
    "\n",
    "Y_encoded= np_utils.to_categorical(Y)\n",
    "model= Sequential()\n",
    "model.add(Dense(16, input_dim= 4, activation= 'relu'))\n",
    "model.add(Dense(3, activation= 'softmax'))\n",
    "\n",
    "#모델 컴파일, 실행, 출력\n",
    "\n",
    "model.compile(loss='categorical_crossentropy',\n",
    "             optimizer= 'adam',\n",
    "             metrics= ['accuracy'])\n",
    "\n",
    "model.fit(X, Y_encoded, epochs= 50, batch_size= 1)\n",
    "print('\\nAccuracy%12.6f'%(model.evaluate(X, Y_encoded)[1]))"
   ]
  },
  {
   "cell_type": "code",
   "execution_count": null,
   "metadata": {
    "collapsed": true
   },
   "outputs": [],
   "source": []
  },
  {
   "cell_type": "code",
   "execution_count": null,
   "metadata": {
    "collapsed": true
   },
   "outputs": [],
   "source": []
  },
  {
   "cell_type": "markdown",
   "metadata": {},
   "source": [
    "## 교차검증 cross validation\n",
    "kFold: 그냥 교차검증인데, 몇 조각으로 나눠서 볼건지"
   ]
  },
  {
   "cell_type": "code",
   "execution_count": 22,
   "metadata": {},
   "outputs": [],
   "source": [
    "# K 가 대문자\n",
    "from sklearn.model_selection import StratifiedKFold"
   ]
  },
  {
   "cell_type": "markdown",
   "metadata": {},
   "source": [
    "10개로 쪼갬"
   ]
  },
  {
   "cell_type": "code",
   "execution_count": 23,
   "metadata": {
    "collapsed": true
   },
   "outputs": [],
   "source": [
    "n_fold= 10\n",
    "seed= 0\n",
    "skf= StratifiedKFold(n_splits= n_fold, shuffle= True, random_state= seed)"
   ]
  },
  {
   "cell_type": "markdown",
   "metadata": {},
   "source": [
    "# error!\n",
    "또 어디 res hape 빼먹은거 아님?"
   ]
  },
  {
   "cell_type": "markdown",
   "metadata": {},
   "source": [
    "##### 모델 설정, 컴파일, 실행 \n",
    "error: Error when checking input: expected dense_3_input to have shape (60,) but got array with shape (4,)"
   ]
  },
  {
   "cell_type": "code",
   "execution_count": 24,
   "metadata": {},
   "outputs": [
    {
     "ename": "ValueError",
     "evalue": "Error when checking input: expected dense_3_input to have shape (60,) but got array with shape (4,)",
     "output_type": "error",
     "traceback": [
      "\u001b[1;31m---------------------------------------------------------------------------\u001b[0m",
      "\u001b[1;31mValueError\u001b[0m                                Traceback (most recent call last)",
      "\u001b[1;32m<ipython-input-24-c6f38c463dc0>\u001b[0m in \u001b[0;36m<module>\u001b[1;34m()\u001b[0m\n\u001b[0;32m      7\u001b[0m                  \u001b[0moptimizer\u001b[0m\u001b[1;33m=\u001b[0m \u001b[1;34m'adam'\u001b[0m\u001b[1;33m,\u001b[0m\u001b[1;33m\u001b[0m\u001b[0m\n\u001b[0;32m      8\u001b[0m                  metrics= ['accuracy'])\n\u001b[1;32m----> 9\u001b[1;33m     \u001b[0mmodel\u001b[0m\u001b[1;33m.\u001b[0m\u001b[0mfit\u001b[0m\u001b[1;33m(\u001b[0m\u001b[0mX\u001b[0m\u001b[1;33m[\u001b[0m\u001b[0mtrain\u001b[0m\u001b[1;33m]\u001b[0m\u001b[1;33m,\u001b[0m \u001b[0mY\u001b[0m\u001b[1;33m[\u001b[0m\u001b[0mtrain\u001b[0m\u001b[1;33m]\u001b[0m\u001b[1;33m,\u001b[0m \u001b[0mepochs\u001b[0m\u001b[1;33m=\u001b[0m \u001b[1;36m100\u001b[0m\u001b[1;33m,\u001b[0m \u001b[0mbatch_size\u001b[0m\u001b[1;33m=\u001b[0m \u001b[1;36m5\u001b[0m\u001b[1;33m)\u001b[0m\u001b[1;33m\u001b[0m\u001b[0m\n\u001b[0m\u001b[0;32m     10\u001b[0m     \u001b[0mk_accuracy\u001b[0m\u001b[1;33m=\u001b[0m \u001b[1;34m\"%.4f\"\u001b[0m\u001b[1;33m%\u001b[0m\u001b[1;33m(\u001b[0m\u001b[0mmodel\u001b[0m\u001b[1;33m.\u001b[0m\u001b[0mevaluate\u001b[0m\u001b[1;33m(\u001b[0m\u001b[0mX\u001b[0m\u001b[1;33m[\u001b[0m\u001b[0mtest\u001b[0m\u001b[1;33m]\u001b[0m\u001b[1;33m,\u001b[0m \u001b[0mY\u001b[0m\u001b[1;33m[\u001b[0m\u001b[0mtest\u001b[0m\u001b[1;33m]\u001b[0m\u001b[1;33m)\u001b[0m\u001b[1;33m[\u001b[0m\u001b[1;36m1\u001b[0m\u001b[1;33m]\u001b[0m\u001b[1;33m)\u001b[0m\u001b[1;33m\u001b[0m\u001b[0m\n\u001b[0;32m     11\u001b[0m     \u001b[0maccuracy\u001b[0m\u001b[1;33m.\u001b[0m\u001b[0mappend\u001b[0m\u001b[1;33m(\u001b[0m\u001b[0mk_accuracy\u001b[0m\u001b[1;33m)\u001b[0m\u001b[1;33m\u001b[0m\u001b[0m\n",
      "\u001b[1;32m~\\Anaconda3\\lib\\site-packages\\keras\\models.py\u001b[0m in \u001b[0;36mfit\u001b[1;34m(self, x, y, batch_size, epochs, verbose, callbacks, validation_split, validation_data, shuffle, class_weight, sample_weight, initial_epoch, steps_per_epoch, validation_steps, **kwargs)\u001b[0m\n\u001b[0;32m    961\u001b[0m                               \u001b[0minitial_epoch\u001b[0m\u001b[1;33m=\u001b[0m\u001b[0minitial_epoch\u001b[0m\u001b[1;33m,\u001b[0m\u001b[1;33m\u001b[0m\u001b[0m\n\u001b[0;32m    962\u001b[0m                               \u001b[0msteps_per_epoch\u001b[0m\u001b[1;33m=\u001b[0m\u001b[0msteps_per_epoch\u001b[0m\u001b[1;33m,\u001b[0m\u001b[1;33m\u001b[0m\u001b[0m\n\u001b[1;32m--> 963\u001b[1;33m                               validation_steps=validation_steps)\n\u001b[0m\u001b[0;32m    964\u001b[0m \u001b[1;33m\u001b[0m\u001b[0m\n\u001b[0;32m    965\u001b[0m     def evaluate(self, x=None, y=None,\n",
      "\u001b[1;32m~\\Anaconda3\\lib\\site-packages\\keras\\engine\\training.py\u001b[0m in \u001b[0;36mfit\u001b[1;34m(self, x, y, batch_size, epochs, verbose, callbacks, validation_split, validation_data, shuffle, class_weight, sample_weight, initial_epoch, steps_per_epoch, validation_steps, **kwargs)\u001b[0m\n\u001b[0;32m   1628\u001b[0m             \u001b[0msample_weight\u001b[0m\u001b[1;33m=\u001b[0m\u001b[0msample_weight\u001b[0m\u001b[1;33m,\u001b[0m\u001b[1;33m\u001b[0m\u001b[0m\n\u001b[0;32m   1629\u001b[0m             \u001b[0mclass_weight\u001b[0m\u001b[1;33m=\u001b[0m\u001b[0mclass_weight\u001b[0m\u001b[1;33m,\u001b[0m\u001b[1;33m\u001b[0m\u001b[0m\n\u001b[1;32m-> 1630\u001b[1;33m             batch_size=batch_size)\n\u001b[0m\u001b[0;32m   1631\u001b[0m         \u001b[1;31m# Prepare validation data.\u001b[0m\u001b[1;33m\u001b[0m\u001b[1;33m\u001b[0m\u001b[0m\n\u001b[0;32m   1632\u001b[0m         \u001b[0mdo_validation\u001b[0m \u001b[1;33m=\u001b[0m \u001b[1;32mFalse\u001b[0m\u001b[1;33m\u001b[0m\u001b[0m\n",
      "\u001b[1;32m~\\Anaconda3\\lib\\site-packages\\keras\\engine\\training.py\u001b[0m in \u001b[0;36m_standardize_user_data\u001b[1;34m(self, x, y, sample_weight, class_weight, check_array_lengths, batch_size)\u001b[0m\n\u001b[0;32m   1474\u001b[0m                                     \u001b[0mself\u001b[0m\u001b[1;33m.\u001b[0m\u001b[0m_feed_input_shapes\u001b[0m\u001b[1;33m,\u001b[0m\u001b[1;33m\u001b[0m\u001b[0m\n\u001b[0;32m   1475\u001b[0m                                     \u001b[0mcheck_batch_axis\u001b[0m\u001b[1;33m=\u001b[0m\u001b[1;32mFalse\u001b[0m\u001b[1;33m,\u001b[0m\u001b[1;33m\u001b[0m\u001b[0m\n\u001b[1;32m-> 1476\u001b[1;33m                                     exception_prefix='input')\n\u001b[0m\u001b[0;32m   1477\u001b[0m         y = _standardize_input_data(y, self._feed_output_names,\n\u001b[0;32m   1478\u001b[0m                                     \u001b[0moutput_shapes\u001b[0m\u001b[1;33m,\u001b[0m\u001b[1;33m\u001b[0m\u001b[0m\n",
      "\u001b[1;32m~\\Anaconda3\\lib\\site-packages\\keras\\engine\\training.py\u001b[0m in \u001b[0;36m_standardize_input_data\u001b[1;34m(data, names, shapes, check_batch_axis, exception_prefix)\u001b[0m\n\u001b[0;32m    121\u001b[0m                             \u001b[1;34m': expected '\u001b[0m \u001b[1;33m+\u001b[0m \u001b[0mnames\u001b[0m\u001b[1;33m[\u001b[0m\u001b[0mi\u001b[0m\u001b[1;33m]\u001b[0m \u001b[1;33m+\u001b[0m \u001b[1;34m' to have shape '\u001b[0m \u001b[1;33m+\u001b[0m\u001b[1;33m\u001b[0m\u001b[0m\n\u001b[0;32m    122\u001b[0m                             \u001b[0mstr\u001b[0m\u001b[1;33m(\u001b[0m\u001b[0mshape\u001b[0m\u001b[1;33m)\u001b[0m \u001b[1;33m+\u001b[0m \u001b[1;34m' but got array with shape '\u001b[0m \u001b[1;33m+\u001b[0m\u001b[1;33m\u001b[0m\u001b[0m\n\u001b[1;32m--> 123\u001b[1;33m                             str(data_shape))\n\u001b[0m\u001b[0;32m    124\u001b[0m     \u001b[1;32mreturn\u001b[0m \u001b[0mdata\u001b[0m\u001b[1;33m\u001b[0m\u001b[0m\n\u001b[0;32m    125\u001b[0m \u001b[1;33m\u001b[0m\u001b[0m\n",
      "\u001b[1;31mValueError\u001b[0m: Error when checking input: expected dense_3_input to have shape (60,) but got array with shape (4,)"
     ]
    }
   ],
   "source": [
    "for train, test in skf.split(X,Y):\n",
    "    model= Sequential()\n",
    "    model.add(Dense(24, input_dim= 60, activation= 'relu'))\n",
    "    model.add(Dense(10, activation= 'relu'))\n",
    "    model.add(Dense(1, activation= 'sigmoid'))\n",
    "    model.compile(loss= 'mean_squared_error',\n",
    "                 optimizer= 'adam',\n",
    "                 metrics= ['accuracy'])\n",
    "    model.fit(X[train], Y[train], epochs= 100, batch_size= 5)\n",
    "    k_accuracy= \"%.4f\"%(model.evaluate(X[test], Y[test])[1])\n",
    "    accuracy.append(k_accuracy)"
   ]
  },
  {
   "cell_type": "code",
   "execution_count": null,
   "metadata": {
    "collapsed": true
   },
   "outputs": [],
   "source": []
  }
 ],
 "metadata": {
  "kernelspec": {
   "display_name": "Python 3",
   "language": "python",
   "name": "python3"
  },
  "language_info": {
   "codemirror_mode": {
    "name": "ipython",
    "version": 3
   },
   "file_extension": ".py",
   "mimetype": "text/x-python",
   "name": "python",
   "nbconvert_exporter": "python",
   "pygments_lexer": "ipython3",
   "version": "3.6.3"
  }
 },
 "nbformat": 4,
 "nbformat_minor": 2
}
