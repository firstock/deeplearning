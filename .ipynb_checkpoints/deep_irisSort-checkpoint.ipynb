{
 "cells": [
  {
   "cell_type": "markdown",
   "metadata": {},
   "source": [
    "### iris 붓꽃 품종 예측"
   ]
  },
  {
   "cell_type": "code",
   "execution_count": 1,
   "metadata": {},
   "outputs": [
    {
     "name": "stderr",
     "output_type": "stream",
     "text": [
      "C:\\Users\\kitcoop\\Anaconda3\\lib\\site-packages\\h5py\\__init__.py:34: FutureWarning: Conversion of the second argument of issubdtype from `float` to `np.floating` is deprecated. In future, it will be treated as `np.float64 == np.dtype(float).type`.\n",
      "  from ._conv import register_converters as _register_converters\n",
      "Using TensorFlow backend.\n"
     ]
    }
   ],
   "source": [
    "from keras.models import Sequential\n",
    "from keras.layers.core import Dense\n",
    "from keras.utils import np_utils\n",
    "from sklearn.preprocessing import LabelEncoder"
   ]
  },
  {
   "cell_type": "code",
   "execution_count": 2,
   "metadata": {
    "collapsed": true
   },
   "outputs": [],
   "source": [
    "import pandas as pd\n",
    "import numpy\n",
    "import tensorflow as tf"
   ]
  },
  {
   "cell_type": "code",
   "execution_count": 3,
   "metadata": {
    "collapsed": true
   },
   "outputs": [],
   "source": [
    "seed= 0\n",
    "numpy.random.seed(seed)\n",
    "tf.set_random_seed(seed)"
   ]
  },
  {
   "cell_type": "code",
   "execution_count": 4,
   "metadata": {
    "collapsed": true
   },
   "outputs": [],
   "source": [
    "cols= [\"sepal_length\", \"sepal_width\", \"petal_length\", \"petal_width\", \"species\"]\n",
    "df= pd.read_csv('dataset/iris.csv', names= cols)"
   ]
  },
  {
   "cell_type": "markdown",
   "metadata": {},
   "source": [
    "데이터분류"
   ]
  },
  {
   "cell_type": "code",
   "execution_count": 5,
   "metadata": {
    "collapsed": true
   },
   "outputs": [],
   "source": [
    "dataset= df.values\n",
    "X= dataset[:,0:4].astype(float)\n",
    "Y_obj= dataset[:,4]"
   ]
  },
  {
   "cell_type": "markdown",
   "metadata": {},
   "source": [
    "### one-hot encoding"
   ]
  },
  {
   "cell_type": "markdown",
   "metadata": {},
   "source": [
    "#### 문자열=> 숫자=> factor\n",
    "- =LabelEncoder()\n",
    "- .to_categorical()"
   ]
  },
  {
   "cell_type": "code",
   "execution_count": 6,
   "metadata": {
    "collapsed": true
   },
   "outputs": [],
   "source": [
    "e= LabelEncoder()\n",
    "e.fit(Y_obj)\n",
    "Y= e.transform(Y_obj)\n",
    "Y_encoded= np_utils.to_categorical(Y)"
   ]
  },
  {
   "cell_type": "markdown",
   "metadata": {},
   "source": [
    "#### 모델설정\n",
    "1. input 노드수는 모델별 고정값! 변경 ㄴㄴ\n",
    "2. keras: 첫 layer추가에서 입력노드와 히든레이어의 노드 수를 정함\n",
    "3. Dense(16, ...): hidden layer의 node 수 16개"
   ]
  },
  {
   "cell_type": "markdown",
   "metadata": {},
   "source": [
    "## softmax\n",
    "총합을 1로 만드는 함수\n",
    "1. 히든레이어 마지막에 이걸 쓰면, 출력계층이 one-hot encoding 으로 나온다"
   ]
  },
  {
   "cell_type": "code",
   "execution_count": 7,
   "metadata": {
    "collapsed": true
   },
   "outputs": [],
   "source": [
    "model= Sequential()\n",
    "model.add(Dense(16, input_dim= 4, activation= 'relu'))\n",
    "model.add(Dense(3, activation= 'softmax'))"
   ]
  },
  {
   "cell_type": "markdown",
   "metadata": {},
   "source": [
    "모델 컴파일, 실행, 출력"
   ]
  },
  {
   "cell_type": "code",
   "execution_count": 8,
   "metadata": {
    "collapsed": true
   },
   "outputs": [],
   "source": [
    "model.compile(loss='categorical_crossentropy',\n",
    "             optimizer= 'adam',\n",
    "             metrics= ['accuracy'])"
   ]
  },
  {
   "cell_type": "code",
   "execution_count": 9,
   "metadata": {
    "scrolled": true
   },
   "outputs": [
    {
     "name": "stdout",
     "output_type": "stream",
     "text": [
      "Epoch 1/50\n",
      "150/150 [==============================] - 0s 2ms/step - loss: 1.6256 - acc: 0.3267\n",
      "Epoch 2/50\n",
      "150/150 [==============================] - 0s 832us/step - loss: 1.1402 - acc: 0.4933\n",
      "Epoch 3/50\n",
      "150/150 [==============================] - 0s 832us/step - loss: 0.9410 - acc: 0.4600\n",
      "Epoch 4/50\n",
      "150/150 [==============================] - 0s 728us/step - loss: 0.7896 - acc: 0.7467\n",
      "Epoch 5/50\n",
      "150/150 [==============================] - 0s 832us/step - loss: 0.6667 - acc: 0.7267\n",
      "Epoch 6/50\n",
      "150/150 [==============================] - 0s 728us/step - loss: 0.5635 - acc: 0.8800\n",
      "Epoch 7/50\n",
      "150/150 [==============================] - 0s 832us/step - loss: 0.5080 - acc: 0.8267\n",
      "Epoch 8/50\n",
      "150/150 [==============================] - 0s 728us/step - loss: 0.4557 - acc: 0.9333\n",
      "Epoch 9/50\n",
      "150/150 [==============================] - 0s 832us/step - loss: 0.4286 - acc: 0.8867\n",
      "Epoch 10/50\n",
      "150/150 [==============================] - 0s 728us/step - loss: 0.4069 - acc: 0.8867\n",
      "Epoch 11/50\n",
      "150/150 [==============================] - 0s 832us/step - loss: 0.3852 - acc: 0.9333\n",
      "Epoch 12/50\n",
      "150/150 [==============================] - 0s 728us/step - loss: 0.3677 - acc: 0.9467\n",
      "Epoch 13/50\n",
      "150/150 [==============================] - 0s 832us/step - loss: 0.3505 - acc: 0.9467\n",
      "Epoch 14/50\n",
      "150/150 [==============================] - 0s 728us/step - loss: 0.3367 - acc: 0.9067\n",
      "Epoch 15/50\n",
      "150/150 [==============================] - 0s 832us/step - loss: 0.3265 - acc: 0.9333\n",
      "Epoch 16/50\n",
      "150/150 [==============================] - 0s 728us/step - loss: 0.3136 - acc: 0.9533\n",
      "Epoch 17/50\n",
      "150/150 [==============================] - 0s 728us/step - loss: 0.3060 - acc: 0.9533\n",
      "Epoch 18/50\n",
      "150/150 [==============================] - 0s 728us/step - loss: 0.2965 - acc: 0.9667\n",
      "Epoch 19/50\n",
      "150/150 [==============================] - 0s 832us/step - loss: 0.2853 - acc: 0.9333\n",
      "Epoch 20/50\n",
      "150/150 [==============================] - 0s 728us/step - loss: 0.2761 - acc: 0.9600\n",
      "Epoch 21/50\n",
      "150/150 [==============================] - 0s 832us/step - loss: 0.2678 - acc: 0.9733\n",
      "Epoch 22/50\n",
      "150/150 [==============================] - 0s 728us/step - loss: 0.2609 - acc: 0.9667\n",
      "Epoch 23/50\n",
      "150/150 [==============================] - 0s 728us/step - loss: 0.2529 - acc: 0.9467\n",
      "Epoch 24/50\n",
      "150/150 [==============================] - 0s 728us/step - loss: 0.2437 - acc: 0.9600\n",
      "Epoch 25/50\n",
      "150/150 [==============================] - 0s 728us/step - loss: 0.2361 - acc: 0.9733\n",
      "Epoch 26/50\n",
      "150/150 [==============================] - 0s 728us/step - loss: 0.2340 - acc: 0.9667\n",
      "Epoch 27/50\n",
      "150/150 [==============================] - 0s 832us/step - loss: 0.2194 - acc: 0.9867\n",
      "Epoch 28/50\n",
      "150/150 [==============================] - 0s 832us/step - loss: 0.2206 - acc: 0.9467\n",
      "Epoch 29/50\n",
      "150/150 [==============================] - 0s 832us/step - loss: 0.2142 - acc: 0.9667\n",
      "Epoch 30/50\n",
      "150/150 [==============================] - 0s 832us/step - loss: 0.2000 - acc: 0.9600\n",
      "Epoch 31/50\n",
      "150/150 [==============================] - 0s 728us/step - loss: 0.2001 - acc: 0.9667\n",
      "Epoch 32/50\n",
      "150/150 [==============================] - 0s 832us/step - loss: 0.1972 - acc: 0.9667\n",
      "Epoch 33/50\n",
      "150/150 [==============================] - 0s 832us/step - loss: 0.1882 - acc: 0.9733\n",
      "Epoch 34/50\n",
      "150/150 [==============================] - 0s 728us/step - loss: 0.1805 - acc: 0.9667\n",
      "Epoch 35/50\n",
      "150/150 [==============================] - 0s 728us/step - loss: 0.1852 - acc: 0.9667\n",
      "Epoch 36/50\n",
      "150/150 [==============================] - 0s 832us/step - loss: 0.1741 - acc: 0.9800\n",
      "Epoch 37/50\n",
      "150/150 [==============================] - 0s 832us/step - loss: 0.1684 - acc: 0.9733\n",
      "Epoch 38/50\n",
      "150/150 [==============================] - 0s 832us/step - loss: 0.1642 - acc: 0.9733\n",
      "Epoch 39/50\n",
      "150/150 [==============================] - 0s 832us/step - loss: 0.1620 - acc: 0.9733\n",
      "Epoch 40/50\n",
      "150/150 [==============================] - 0s 728us/step - loss: 0.1558 - acc: 0.9667\n",
      "Epoch 41/50\n",
      "150/150 [==============================] - 0s 728us/step - loss: 0.1565 - acc: 0.9667\n",
      "Epoch 42/50\n",
      "150/150 [==============================] - 0s 728us/step - loss: 0.1521 - acc: 0.9667\n",
      "Epoch 43/50\n",
      "150/150 [==============================] - 0s 728us/step - loss: 0.1428 - acc: 0.9667\n",
      "Epoch 44/50\n",
      "150/150 [==============================] - 0s 832us/step - loss: 0.1435 - acc: 0.9600\n",
      "Epoch 45/50\n",
      "150/150 [==============================] - 0s 832us/step - loss: 0.1411 - acc: 0.9800\n",
      "Epoch 46/50\n",
      "150/150 [==============================] - 0s 728us/step - loss: 0.1449 - acc: 0.9600\n",
      "Epoch 47/50\n",
      "150/150 [==============================] - 0s 728us/step - loss: 0.1342 - acc: 0.9667\n",
      "Epoch 48/50\n",
      "150/150 [==============================] - 0s 832us/step - loss: 0.1342 - acc: 0.9800\n",
      "Epoch 49/50\n",
      "150/150 [==============================] - 0s 728us/step - loss: 0.1324 - acc: 0.9667\n",
      "Epoch 50/50\n",
      "150/150 [==============================] - 0s 832us/step - loss: 0.1275 - acc: 0.9667\n"
     ]
    },
    {
     "data": {
      "text/plain": [
       "<keras.callbacks.History at 0x1723a320>"
      ]
     },
     "execution_count": 9,
     "metadata": {},
     "output_type": "execute_result"
    }
   ],
   "source": [
    "model.fit(X, Y_encoded, epochs= 50, batch_size= 1)"
   ]
  },
  {
   "cell_type": "code",
   "execution_count": 10,
   "metadata": {},
   "outputs": [
    {
     "name": "stdout",
     "output_type": "stream",
     "text": [
      "150/150 [==============================] - 0s 104us/step\n",
      "\n",
      "Accuracy    0.973333\n"
     ]
    }
   ],
   "source": [
    "print('\\nAccuracy%12.6f'%(model.evaluate(X, Y_encoded)[1]))"
   ]
  }
 ],
 "metadata": {
  "kernelspec": {
   "display_name": "Python 3",
   "language": "python",
   "name": "python3"
  },
  "language_info": {
   "codemirror_mode": {
    "name": "ipython",
    "version": 3
   },
   "file_extension": ".py",
   "mimetype": "text/x-python",
   "name": "python",
   "nbconvert_exporter": "python",
   "pygments_lexer": "ipython3",
   "version": "3.6.3"
  }
 },
 "nbformat": 4,
 "nbformat_minor": 2
}
